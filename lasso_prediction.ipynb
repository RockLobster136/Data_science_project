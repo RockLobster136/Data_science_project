{
  "cells": [
    {
      "cell_type": "code",
      "execution_count": 4,
      "metadata": {
        "id": "NsvlawDfqwx0"
      },
      "outputs": [],
      "source": [
        "import os\n",
        "import pandas as pd\n",
        "import numpy as np\n",
        "import matplotlib.pyplot as plt\n",
        "import seaborn as sns\n",
        "from sklearn.impute import KNNImputer\n",
        "from sklearn.preprocessing import StandardScaler, PolynomialFeatures\n",
        "from sklearn.linear_model import Lasso, LassoCV\n",
        "from sklearn.metrics import mean_squared_error\n",
        "%matplotlib inline"
      ]
    },
    {
      "cell_type": "code",
      "source": [
        "#!git clone https://github.com/odedsc/Data_science_project"
      ],
      "metadata": {
        "id": "3Zk76eFCrDEs",
        "colab": {
          "base_uri": "https://localhost:8080/"
        },
        "outputId": "8f15f962-dbf1-4f61-9163-372b7dd4558c"
      },
      "execution_count": 5,
      "outputs": [
        {
          "output_type": "stream",
          "name": "stdout",
          "text": [
            "Cloning into 'Data_science_project'...\n",
            "remote: Enumerating objects: 40, done.\u001b[K\n",
            "remote: Counting objects: 100% (40/40), done.\u001b[K\n",
            "remote: Compressing objects: 100% (27/27), done.\u001b[K\n",
            "remote: Total 40 (delta 19), reused 27 (delta 11), pack-reused 0\u001b[K\n",
            "Unpacking objects: 100% (40/40), 17.94 MiB | 4.54 MiB/s, done.\n"
          ]
        }
      ]
    },
    {
      "cell_type": "code",
      "source": [
        "os.chdir('Data_science_project')"
      ],
      "metadata": {
        "id": "ixWC8hvxsvbj"
      },
      "execution_count": 6,
      "outputs": []
    },
    {
      "cell_type": "code",
      "execution_count": 7,
      "metadata": {
        "colab": {
          "base_uri": "https://localhost:8080/",
          "height": 505
        },
        "id": "S-sz-2khqwx3",
        "outputId": "533da1db-1c49-40c6-d3a6-c16952f3c3ea"
      },
      "outputs": [
        {
          "output_type": "display_data",
          "data": {
            "text/plain": [
              "       Unnamed: 0  address/city  address/zipcode  bathrooms  bedrooms  \\\n",
              "0               0             0          10463.0        2.0       5.0   \n",
              "1               1             1          10471.0        8.0       8.0   \n",
              "2               2             1          10463.0        3.0       4.0   \n",
              "3               3             1          10463.0        6.0       5.0   \n",
              "4               4             1          10463.0        6.0       5.0   \n",
              "...           ...           ...              ...        ...       ...   \n",
              "72253       75563            37          11375.0        2.0       3.0   \n",
              "72254       75564           123          11375.0        6.0       6.0   \n",
              "72255       75565           123          11375.0        5.0       6.0   \n",
              "72256       75566            37          11375.0        NaN       NaN   \n",
              "72257       75567            37          11375.0        2.0       3.0   \n",
              "\n",
              "       homeStatus   latitude  livingArea  longitude      price  \\\n",
              "0               0  40.877743      1889.0 -73.910866   799999.0   \n",
              "1               0  40.892689      7000.0 -73.910667  3995000.0   \n",
              "2               0  40.883419      4233.0 -73.918106  1495000.0   \n",
              "3               0  40.885033      7000.0 -73.917793  3450000.0   \n",
              "4               0  40.881702         NaN -73.914185  1790000.0   \n",
              "...           ...        ...         ...        ...        ...   \n",
              "72253           1  40.714203      2417.0 -73.855263   825000.0   \n",
              "72254           1  40.717163      6085.0 -73.843124  2704000.0   \n",
              "72255           1  40.717052      4564.0 -73.843025  2750000.0   \n",
              "72256           1  40.709549      1216.0 -73.854385   935000.0   \n",
              "72257           1  40.712387      1450.0 -73.850288   820000.0   \n",
              "\n",
              "       propertyTaxRate  resoFactsStats/bathrooms  \\\n",
              "0                 0.88                       2.0   \n",
              "1                 0.95                       8.0   \n",
              "2                 0.95                       3.0   \n",
              "3                 0.95                       6.0   \n",
              "4                 0.95                       6.0   \n",
              "...                ...                       ...   \n",
              "72253             0.84                       2.0   \n",
              "72254             0.84                       6.0   \n",
              "72255             0.84                       5.0   \n",
              "72256             0.84                       NaN   \n",
              "72257             0.84                       2.0   \n",
              "\n",
              "       resoFactsStats/bathroomsFull  resoFactsStats/bathroomsHalf  \\\n",
              "0                               1.0                           1.0   \n",
              "1                               7.0                           1.0   \n",
              "2                               3.0                           0.0   \n",
              "3                               6.0                           0.0   \n",
              "4                               5.0                           1.0   \n",
              "...                             ...                           ...   \n",
              "72253                           0.0                           0.0   \n",
              "72254                           5.0                           1.0   \n",
              "72255                           4.0                           1.0   \n",
              "72256                           NaN                           NaN   \n",
              "72257                           1.0                           1.0   \n",
              "\n",
              "       resoFactsStats/bedrooms  resoFactsStats/cityRegion  \\\n",
              "0                          5.0                          0   \n",
              "1                          8.0                          1   \n",
              "2                          4.0                          1   \n",
              "3                          5.0                          1   \n",
              "4                          5.0                          1   \n",
              "...                        ...                        ...   \n",
              "72253                      3.0                         27   \n",
              "72254                      6.0                         83   \n",
              "72255                      6.0                         83   \n",
              "72256                      NaN                         27   \n",
              "72257                      3.0                         27   \n",
              "\n",
              "       resoFactsStats/garageSpaces  resoFactsStats/hasAttachedGarage  \\\n",
              "0                                0                                 0   \n",
              "1                                0                                 0   \n",
              "2                                0                                 0   \n",
              "3                                0                                 0   \n",
              "4                                0                                 0   \n",
              "...                            ...                               ...   \n",
              "72253                            0                                 0   \n",
              "72254                            0                                 0   \n",
              "72255                            0                                 0   \n",
              "72256                            0                                 0   \n",
              "72257                            0                                 0   \n",
              "\n",
              "       resoFactsStats/hasAttachedProperty  resoFactsStats/hasCooling  \\\n",
              "0                                       0                        1.0   \n",
              "1                                       0                        1.0   \n",
              "2                                       0                        0.0   \n",
              "3                                       0                        1.0   \n",
              "4                                       0                        1.0   \n",
              "...                                   ...                        ...   \n",
              "72253                                   0                        0.0   \n",
              "72254                                   0                        0.0   \n",
              "72255                                   0                        0.0   \n",
              "72256                                   0                        0.0   \n",
              "72257                                   0                        0.0   \n",
              "\n",
              "       resoFactsStats/hasGarage  resoFactsStats/hasHeating  \\\n",
              "0                             0                        1.0   \n",
              "1                             0                        0.0   \n",
              "2                             0                        0.0   \n",
              "3                             0                        0.0   \n",
              "4                             0                        0.0   \n",
              "...                         ...                        ...   \n",
              "72253                         0                        1.0   \n",
              "72254                         0                        0.0   \n",
              "72255                         0                        0.0   \n",
              "72256                         0                        0.0   \n",
              "72257                         0                        0.0   \n",
              "\n",
              "       resoFactsStats/hasOpenParking  resoFactsStats/hasView  \\\n",
              "0                                  0                       0   \n",
              "1                                  0                       0   \n",
              "2                                  0                       0   \n",
              "3                                  0                       0   \n",
              "4                                  0                       0   \n",
              "...                              ...                     ...   \n",
              "72253                              0                       0   \n",
              "72254                              0                       0   \n",
              "72255                              0                       0   \n",
              "72256                              0                       0   \n",
              "72257                              0                       0   \n",
              "\n",
              "       resoFactsStats/homeType  resoFactsStats/livingArea  \\\n",
              "0                            0                     1889.0   \n",
              "1                            1                     7000.0   \n",
              "2                            1                     4233.0   \n",
              "3                            1                     7000.0   \n",
              "4                            1                        NaN   \n",
              "...                        ...                        ...   \n",
              "72253                        1                     2417.0   \n",
              "72254                        6                     6085.0   \n",
              "72255                        6                     4564.0   \n",
              "72256                        1                     1216.0   \n",
              "72257                        1                     1450.0   \n",
              "\n",
              "       resoFactsStats/lotSize  resoFactsStats/parking  \\\n",
              "0                         NaN                       0   \n",
              "1                     12632.4                       0   \n",
              "2                     18295.2                       0   \n",
              "3                     11325.6                       0   \n",
              "4                         NaN                       0   \n",
              "...                       ...                     ...   \n",
              "72253                  2417.0                       0   \n",
              "72254                  3255.0                       0   \n",
              "72255                  6603.0                       0   \n",
              "72256                  2367.0                       0   \n",
              "72257                  1999.0                       0   \n",
              "\n",
              "       resoFactsStats/taxAnnualAmount  resoFactsStats/taxAssessedValue  \\\n",
              "0                              5096.0                         711000.0   \n",
              "1                             13941.0                        1937000.0   \n",
              "2                             12253.0                        2341000.0   \n",
              "3                             19472.0                        3011000.0   \n",
              "4                                 NaN                              NaN   \n",
              "...                               ...                              ...   \n",
              "72253                          6447.0                         907000.0   \n",
              "72254                         18430.0                        2513000.0   \n",
              "72255                         24649.0                        2893000.0   \n",
              "72256                          4979.0                         783000.0   \n",
              "72257                          6563.0                        1124000.0   \n",
              "\n",
              "       resoFactsStats/yearBuilt  schools/0/distance  schools/0/level  \\\n",
              "0                        1920.0                 0.1              1.0   \n",
              "1                        1940.0                 0.4              1.0   \n",
              "2                        1920.0                 0.3              1.0   \n",
              "3                        1950.0                 0.2              1.0   \n",
              "4                        2020.0                 0.3              1.0   \n",
              "...                         ...                 ...              ...   \n",
              "72253                    1920.0                 0.2              0.0   \n",
              "72254                    1925.0                 0.1              0.0   \n",
              "72255                    1925.0                 0.1              0.0   \n",
              "72256                    1930.0                 0.4              0.0   \n",
              "72257                    1930.0                 0.2              0.0   \n",
              "\n",
              "       schools/0/rating  schools/0/size  schools/0/studentsPerTeacher  \\\n",
              "0                   4.0           647.0                          14.0   \n",
              "1                  10.0           907.0                          16.0   \n",
              "2                  10.0           907.0                          16.0   \n",
              "3                  10.0           907.0                          16.0   \n",
              "4                  10.0           907.0                          16.0   \n",
              "...                 ...             ...                           ...   \n",
              "72253               8.0           893.0                          16.0   \n",
              "72254               9.0           654.0                          16.0   \n",
              "72255               9.0           654.0                          16.0   \n",
              "72256               8.0           893.0                          16.0   \n",
              "72257               8.0           893.0                          16.0   \n",
              "\n",
              "       schools/1/distance  schools/1/level  schools/1/rating  schools/1/size  \\\n",
              "0                     0.1              2.0               3.0           993.0   \n",
              "1                     0.3              2.0               5.0          1516.0   \n",
              "2                     0.4              2.0               5.0          1516.0   \n",
              "3                     0.3              2.0               5.0          1516.0   \n",
              "4                     0.4              2.0               5.0          1516.0   \n",
              "...                   ...              ...               ...             ...   \n",
              "72253                 0.6              2.0               7.0          1054.0   \n",
              "72254                 0.7              2.0               7.0          1054.0   \n",
              "72255                 0.7              2.0               7.0          1054.0   \n",
              "72256                 0.9              2.0               7.0          1054.0   \n",
              "72257                 0.7              2.0               7.0          1054.0   \n",
              "\n",
              "       schools/1/studentsPerTeacher  schools/2/distance  schools/2/isAssigned  \\\n",
              "0                              14.0                 NaN                   NaN   \n",
              "1                              15.0                 NaN                   NaN   \n",
              "2                              15.0                 NaN                   NaN   \n",
              "3                              15.0                 NaN                   NaN   \n",
              "4                              15.0                 NaN                   NaN   \n",
              "...                             ...                 ...                   ...   \n",
              "72253                          15.0                 0.4                   1.0   \n",
              "72254                          15.0                 1.0                   1.0   \n",
              "72255                          15.0                 1.0                   1.0   \n",
              "72256                          15.0                 0.1                   1.0   \n",
              "72257                          15.0                 0.4                   1.0   \n",
              "\n",
              "       schools/2/level  schools/2/rating  schools/2/size  \\\n",
              "0                  NaN               NaN             NaN   \n",
              "1                  NaN               NaN             NaN   \n",
              "2                  NaN               NaN             NaN   \n",
              "3                  NaN               NaN             NaN   \n",
              "4                  NaN               NaN             NaN   \n",
              "...                ...               ...             ...   \n",
              "72253              3.0               6.0          1088.0   \n",
              "72254              3.0               6.0          1088.0   \n",
              "72255              3.0               6.0          1088.0   \n",
              "72256              3.0               6.0          1088.0   \n",
              "72257              3.0               6.0          1088.0   \n",
              "\n",
              "       schools/2/studentsPerTeacher  yearBuilt          zpid  \\\n",
              "0                               NaN     1920.0  3.155405e+07   \n",
              "1                               NaN     1940.0  2.985412e+07   \n",
              "2                               NaN     1920.0  2.985186e+07   \n",
              "3                               NaN     1950.0  2.985186e+07   \n",
              "4                               NaN     2020.0  2.077107e+09   \n",
              "...                             ...        ...           ...   \n",
              "72253                          15.0     1920.0  3.200295e+07   \n",
              "72254                          15.0     1925.0  3.200501e+07   \n",
              "72255                          15.0     1925.0  3.200501e+07   \n",
              "72256                          15.0     1930.0  3.202000e+07   \n",
              "72257                          15.0     1930.0  3.200400e+07   \n",
              "\n",
              "       number_of_photos  description_exists  description_lengths  \\\n",
              "0                    27                   0                    0   \n",
              "1                    47                   1                  264   \n",
              "2                    24                   0                    0   \n",
              "3                    15                   1                  215   \n",
              "4                    22                   1                  187   \n",
              "...                 ...                 ...                  ...   \n",
              "72253                 1                   0                    0   \n",
              "72254                24                   1                  332   \n",
              "72255                10                   0                    0   \n",
              "72256                 1                   1                   50   \n",
              "72257                 1                   1                   57   \n",
              "\n",
              "       priceChangeRate  url_exists  \n",
              "0             0.335558           1  \n",
              "1            -0.111235           1  \n",
              "2            -0.002668           1  \n",
              "3            -0.092105           1  \n",
              "4             0.000000           1  \n",
              "...                ...         ...  \n",
              "72253        -0.078498           1  \n",
              "72254        -0.025855           1  \n",
              "72255         0.000000           1  \n",
              "72256         0.000000           1  \n",
              "72257        -0.093264           1  \n",
              "\n",
              "[72258 rows x 54 columns]"
            ],
            "text/html": [
              "\n",
              "  <div id=\"df-73ed007f-8302-4a7e-afbe-e8dc5a82552c\">\n",
              "    <div class=\"colab-df-container\">\n",
              "      <div>\n",
              "<style scoped>\n",
              "    .dataframe tbody tr th:only-of-type {\n",
              "        vertical-align: middle;\n",
              "    }\n",
              "\n",
              "    .dataframe tbody tr th {\n",
              "        vertical-align: top;\n",
              "    }\n",
              "\n",
              "    .dataframe thead th {\n",
              "        text-align: right;\n",
              "    }\n",
              "</style>\n",
              "<table border=\"1\" class=\"dataframe\">\n",
              "  <thead>\n",
              "    <tr style=\"text-align: right;\">\n",
              "      <th></th>\n",
              "      <th>Unnamed: 0</th>\n",
              "      <th>address/city</th>\n",
              "      <th>address/zipcode</th>\n",
              "      <th>bathrooms</th>\n",
              "      <th>bedrooms</th>\n",
              "      <th>homeStatus</th>\n",
              "      <th>latitude</th>\n",
              "      <th>livingArea</th>\n",
              "      <th>longitude</th>\n",
              "      <th>price</th>\n",
              "      <th>propertyTaxRate</th>\n",
              "      <th>resoFactsStats/bathrooms</th>\n",
              "      <th>resoFactsStats/bathroomsFull</th>\n",
              "      <th>resoFactsStats/bathroomsHalf</th>\n",
              "      <th>resoFactsStats/bedrooms</th>\n",
              "      <th>resoFactsStats/cityRegion</th>\n",
              "      <th>resoFactsStats/garageSpaces</th>\n",
              "      <th>resoFactsStats/hasAttachedGarage</th>\n",
              "      <th>resoFactsStats/hasAttachedProperty</th>\n",
              "      <th>resoFactsStats/hasCooling</th>\n",
              "      <th>resoFactsStats/hasGarage</th>\n",
              "      <th>resoFactsStats/hasHeating</th>\n",
              "      <th>resoFactsStats/hasOpenParking</th>\n",
              "      <th>resoFactsStats/hasView</th>\n",
              "      <th>resoFactsStats/homeType</th>\n",
              "      <th>resoFactsStats/livingArea</th>\n",
              "      <th>resoFactsStats/lotSize</th>\n",
              "      <th>resoFactsStats/parking</th>\n",
              "      <th>resoFactsStats/taxAnnualAmount</th>\n",
              "      <th>resoFactsStats/taxAssessedValue</th>\n",
              "      <th>resoFactsStats/yearBuilt</th>\n",
              "      <th>schools/0/distance</th>\n",
              "      <th>schools/0/level</th>\n",
              "      <th>schools/0/rating</th>\n",
              "      <th>schools/0/size</th>\n",
              "      <th>schools/0/studentsPerTeacher</th>\n",
              "      <th>schools/1/distance</th>\n",
              "      <th>schools/1/level</th>\n",
              "      <th>schools/1/rating</th>\n",
              "      <th>schools/1/size</th>\n",
              "      <th>schools/1/studentsPerTeacher</th>\n",
              "      <th>schools/2/distance</th>\n",
              "      <th>schools/2/isAssigned</th>\n",
              "      <th>schools/2/level</th>\n",
              "      <th>schools/2/rating</th>\n",
              "      <th>schools/2/size</th>\n",
              "      <th>schools/2/studentsPerTeacher</th>\n",
              "      <th>yearBuilt</th>\n",
              "      <th>zpid</th>\n",
              "      <th>number_of_photos</th>\n",
              "      <th>description_exists</th>\n",
              "      <th>description_lengths</th>\n",
              "      <th>priceChangeRate</th>\n",
              "      <th>url_exists</th>\n",
              "    </tr>\n",
              "  </thead>\n",
              "  <tbody>\n",
              "    <tr>\n",
              "      <th>0</th>\n",
              "      <td>0</td>\n",
              "      <td>0</td>\n",
              "      <td>10463.0</td>\n",
              "      <td>2.0</td>\n",
              "      <td>5.0</td>\n",
              "      <td>0</td>\n",
              "      <td>40.877743</td>\n",
              "      <td>1889.0</td>\n",
              "      <td>-73.910866</td>\n",
              "      <td>799999.0</td>\n",
              "      <td>0.88</td>\n",
              "      <td>2.0</td>\n",
              "      <td>1.0</td>\n",
              "      <td>1.0</td>\n",
              "      <td>5.0</td>\n",
              "      <td>0</td>\n",
              "      <td>0</td>\n",
              "      <td>0</td>\n",
              "      <td>0</td>\n",
              "      <td>1.0</td>\n",
              "      <td>0</td>\n",
              "      <td>1.0</td>\n",
              "      <td>0</td>\n",
              "      <td>0</td>\n",
              "      <td>0</td>\n",
              "      <td>1889.0</td>\n",
              "      <td>NaN</td>\n",
              "      <td>0</td>\n",
              "      <td>5096.0</td>\n",
              "      <td>711000.0</td>\n",
              "      <td>1920.0</td>\n",
              "      <td>0.1</td>\n",
              "      <td>1.0</td>\n",
              "      <td>4.0</td>\n",
              "      <td>647.0</td>\n",
              "      <td>14.0</td>\n",
              "      <td>0.1</td>\n",
              "      <td>2.0</td>\n",
              "      <td>3.0</td>\n",
              "      <td>993.0</td>\n",
              "      <td>14.0</td>\n",
              "      <td>NaN</td>\n",
              "      <td>NaN</td>\n",
              "      <td>NaN</td>\n",
              "      <td>NaN</td>\n",
              "      <td>NaN</td>\n",
              "      <td>NaN</td>\n",
              "      <td>1920.0</td>\n",
              "      <td>3.155405e+07</td>\n",
              "      <td>27</td>\n",
              "      <td>0</td>\n",
              "      <td>0</td>\n",
              "      <td>0.335558</td>\n",
              "      <td>1</td>\n",
              "    </tr>\n",
              "    <tr>\n",
              "      <th>1</th>\n",
              "      <td>1</td>\n",
              "      <td>1</td>\n",
              "      <td>10471.0</td>\n",
              "      <td>8.0</td>\n",
              "      <td>8.0</td>\n",
              "      <td>0</td>\n",
              "      <td>40.892689</td>\n",
              "      <td>7000.0</td>\n",
              "      <td>-73.910667</td>\n",
              "      <td>3995000.0</td>\n",
              "      <td>0.95</td>\n",
              "      <td>8.0</td>\n",
              "      <td>7.0</td>\n",
              "      <td>1.0</td>\n",
              "      <td>8.0</td>\n",
              "      <td>1</td>\n",
              "      <td>0</td>\n",
              "      <td>0</td>\n",
              "      <td>0</td>\n",
              "      <td>1.0</td>\n",
              "      <td>0</td>\n",
              "      <td>0.0</td>\n",
              "      <td>0</td>\n",
              "      <td>0</td>\n",
              "      <td>1</td>\n",
              "      <td>7000.0</td>\n",
              "      <td>12632.4</td>\n",
              "      <td>0</td>\n",
              "      <td>13941.0</td>\n",
              "      <td>1937000.0</td>\n",
              "      <td>1940.0</td>\n",
              "      <td>0.4</td>\n",
              "      <td>1.0</td>\n",
              "      <td>10.0</td>\n",
              "      <td>907.0</td>\n",
              "      <td>16.0</td>\n",
              "      <td>0.3</td>\n",
              "      <td>2.0</td>\n",
              "      <td>5.0</td>\n",
              "      <td>1516.0</td>\n",
              "      <td>15.0</td>\n",
              "      <td>NaN</td>\n",
              "      <td>NaN</td>\n",
              "      <td>NaN</td>\n",
              "      <td>NaN</td>\n",
              "      <td>NaN</td>\n",
              "      <td>NaN</td>\n",
              "      <td>1940.0</td>\n",
              "      <td>2.985412e+07</td>\n",
              "      <td>47</td>\n",
              "      <td>1</td>\n",
              "      <td>264</td>\n",
              "      <td>-0.111235</td>\n",
              "      <td>1</td>\n",
              "    </tr>\n",
              "    <tr>\n",
              "      <th>2</th>\n",
              "      <td>2</td>\n",
              "      <td>1</td>\n",
              "      <td>10463.0</td>\n",
              "      <td>3.0</td>\n",
              "      <td>4.0</td>\n",
              "      <td>0</td>\n",
              "      <td>40.883419</td>\n",
              "      <td>4233.0</td>\n",
              "      <td>-73.918106</td>\n",
              "      <td>1495000.0</td>\n",
              "      <td>0.95</td>\n",
              "      <td>3.0</td>\n",
              "      <td>3.0</td>\n",
              "      <td>0.0</td>\n",
              "      <td>4.0</td>\n",
              "      <td>1</td>\n",
              "      <td>0</td>\n",
              "      <td>0</td>\n",
              "      <td>0</td>\n",
              "      <td>0.0</td>\n",
              "      <td>0</td>\n",
              "      <td>0.0</td>\n",
              "      <td>0</td>\n",
              "      <td>0</td>\n",
              "      <td>1</td>\n",
              "      <td>4233.0</td>\n",
              "      <td>18295.2</td>\n",
              "      <td>0</td>\n",
              "      <td>12253.0</td>\n",
              "      <td>2341000.0</td>\n",
              "      <td>1920.0</td>\n",
              "      <td>0.3</td>\n",
              "      <td>1.0</td>\n",
              "      <td>10.0</td>\n",
              "      <td>907.0</td>\n",
              "      <td>16.0</td>\n",
              "      <td>0.4</td>\n",
              "      <td>2.0</td>\n",
              "      <td>5.0</td>\n",
              "      <td>1516.0</td>\n",
              "      <td>15.0</td>\n",
              "      <td>NaN</td>\n",
              "      <td>NaN</td>\n",
              "      <td>NaN</td>\n",
              "      <td>NaN</td>\n",
              "      <td>NaN</td>\n",
              "      <td>NaN</td>\n",
              "      <td>1920.0</td>\n",
              "      <td>2.985186e+07</td>\n",
              "      <td>24</td>\n",
              "      <td>0</td>\n",
              "      <td>0</td>\n",
              "      <td>-0.002668</td>\n",
              "      <td>1</td>\n",
              "    </tr>\n",
              "    <tr>\n",
              "      <th>3</th>\n",
              "      <td>3</td>\n",
              "      <td>1</td>\n",
              "      <td>10463.0</td>\n",
              "      <td>6.0</td>\n",
              "      <td>5.0</td>\n",
              "      <td>0</td>\n",
              "      <td>40.885033</td>\n",
              "      <td>7000.0</td>\n",
              "      <td>-73.917793</td>\n",
              "      <td>3450000.0</td>\n",
              "      <td>0.95</td>\n",
              "      <td>6.0</td>\n",
              "      <td>6.0</td>\n",
              "      <td>0.0</td>\n",
              "      <td>5.0</td>\n",
              "      <td>1</td>\n",
              "      <td>0</td>\n",
              "      <td>0</td>\n",
              "      <td>0</td>\n",
              "      <td>1.0</td>\n",
              "      <td>0</td>\n",
              "      <td>0.0</td>\n",
              "      <td>0</td>\n",
              "      <td>0</td>\n",
              "      <td>1</td>\n",
              "      <td>7000.0</td>\n",
              "      <td>11325.6</td>\n",
              "      <td>0</td>\n",
              "      <td>19472.0</td>\n",
              "      <td>3011000.0</td>\n",
              "      <td>1950.0</td>\n",
              "      <td>0.2</td>\n",
              "      <td>1.0</td>\n",
              "      <td>10.0</td>\n",
              "      <td>907.0</td>\n",
              "      <td>16.0</td>\n",
              "      <td>0.3</td>\n",
              "      <td>2.0</td>\n",
              "      <td>5.0</td>\n",
              "      <td>1516.0</td>\n",
              "      <td>15.0</td>\n",
              "      <td>NaN</td>\n",
              "      <td>NaN</td>\n",
              "      <td>NaN</td>\n",
              "      <td>NaN</td>\n",
              "      <td>NaN</td>\n",
              "      <td>NaN</td>\n",
              "      <td>1950.0</td>\n",
              "      <td>2.985186e+07</td>\n",
              "      <td>15</td>\n",
              "      <td>1</td>\n",
              "      <td>215</td>\n",
              "      <td>-0.092105</td>\n",
              "      <td>1</td>\n",
              "    </tr>\n",
              "    <tr>\n",
              "      <th>4</th>\n",
              "      <td>4</td>\n",
              "      <td>1</td>\n",
              "      <td>10463.0</td>\n",
              "      <td>6.0</td>\n",
              "      <td>5.0</td>\n",
              "      <td>0</td>\n",
              "      <td>40.881702</td>\n",
              "      <td>NaN</td>\n",
              "      <td>-73.914185</td>\n",
              "      <td>1790000.0</td>\n",
              "      <td>0.95</td>\n",
              "      <td>6.0</td>\n",
              "      <td>5.0</td>\n",
              "      <td>1.0</td>\n",
              "      <td>5.0</td>\n",
              "      <td>1</td>\n",
              "      <td>0</td>\n",
              "      <td>0</td>\n",
              "      <td>0</td>\n",
              "      <td>1.0</td>\n",
              "      <td>0</td>\n",
              "      <td>0.0</td>\n",
              "      <td>0</td>\n",
              "      <td>0</td>\n",
              "      <td>1</td>\n",
              "      <td>NaN</td>\n",
              "      <td>NaN</td>\n",
              "      <td>0</td>\n",
              "      <td>NaN</td>\n",
              "      <td>NaN</td>\n",
              "      <td>2020.0</td>\n",
              "      <td>0.3</td>\n",
              "      <td>1.0</td>\n",
              "      <td>10.0</td>\n",
              "      <td>907.0</td>\n",
              "      <td>16.0</td>\n",
              "      <td>0.4</td>\n",
              "      <td>2.0</td>\n",
              "      <td>5.0</td>\n",
              "      <td>1516.0</td>\n",
              "      <td>15.0</td>\n",
              "      <td>NaN</td>\n",
              "      <td>NaN</td>\n",
              "      <td>NaN</td>\n",
              "      <td>NaN</td>\n",
              "      <td>NaN</td>\n",
              "      <td>NaN</td>\n",
              "      <td>2020.0</td>\n",
              "      <td>2.077107e+09</td>\n",
              "      <td>22</td>\n",
              "      <td>1</td>\n",
              "      <td>187</td>\n",
              "      <td>0.000000</td>\n",
              "      <td>1</td>\n",
              "    </tr>\n",
              "    <tr>\n",
              "      <th>...</th>\n",
              "      <td>...</td>\n",
              "      <td>...</td>\n",
              "      <td>...</td>\n",
              "      <td>...</td>\n",
              "      <td>...</td>\n",
              "      <td>...</td>\n",
              "      <td>...</td>\n",
              "      <td>...</td>\n",
              "      <td>...</td>\n",
              "      <td>...</td>\n",
              "      <td>...</td>\n",
              "      <td>...</td>\n",
              "      <td>...</td>\n",
              "      <td>...</td>\n",
              "      <td>...</td>\n",
              "      <td>...</td>\n",
              "      <td>...</td>\n",
              "      <td>...</td>\n",
              "      <td>...</td>\n",
              "      <td>...</td>\n",
              "      <td>...</td>\n",
              "      <td>...</td>\n",
              "      <td>...</td>\n",
              "      <td>...</td>\n",
              "      <td>...</td>\n",
              "      <td>...</td>\n",
              "      <td>...</td>\n",
              "      <td>...</td>\n",
              "      <td>...</td>\n",
              "      <td>...</td>\n",
              "      <td>...</td>\n",
              "      <td>...</td>\n",
              "      <td>...</td>\n",
              "      <td>...</td>\n",
              "      <td>...</td>\n",
              "      <td>...</td>\n",
              "      <td>...</td>\n",
              "      <td>...</td>\n",
              "      <td>...</td>\n",
              "      <td>...</td>\n",
              "      <td>...</td>\n",
              "      <td>...</td>\n",
              "      <td>...</td>\n",
              "      <td>...</td>\n",
              "      <td>...</td>\n",
              "      <td>...</td>\n",
              "      <td>...</td>\n",
              "      <td>...</td>\n",
              "      <td>...</td>\n",
              "      <td>...</td>\n",
              "      <td>...</td>\n",
              "      <td>...</td>\n",
              "      <td>...</td>\n",
              "      <td>...</td>\n",
              "    </tr>\n",
              "    <tr>\n",
              "      <th>72253</th>\n",
              "      <td>75563</td>\n",
              "      <td>37</td>\n",
              "      <td>11375.0</td>\n",
              "      <td>2.0</td>\n",
              "      <td>3.0</td>\n",
              "      <td>1</td>\n",
              "      <td>40.714203</td>\n",
              "      <td>2417.0</td>\n",
              "      <td>-73.855263</td>\n",
              "      <td>825000.0</td>\n",
              "      <td>0.84</td>\n",
              "      <td>2.0</td>\n",
              "      <td>0.0</td>\n",
              "      <td>0.0</td>\n",
              "      <td>3.0</td>\n",
              "      <td>27</td>\n",
              "      <td>0</td>\n",
              "      <td>0</td>\n",
              "      <td>0</td>\n",
              "      <td>0.0</td>\n",
              "      <td>0</td>\n",
              "      <td>1.0</td>\n",
              "      <td>0</td>\n",
              "      <td>0</td>\n",
              "      <td>1</td>\n",
              "      <td>2417.0</td>\n",
              "      <td>2417.0</td>\n",
              "      <td>0</td>\n",
              "      <td>6447.0</td>\n",
              "      <td>907000.0</td>\n",
              "      <td>1920.0</td>\n",
              "      <td>0.2</td>\n",
              "      <td>0.0</td>\n",
              "      <td>8.0</td>\n",
              "      <td>893.0</td>\n",
              "      <td>16.0</td>\n",
              "      <td>0.6</td>\n",
              "      <td>2.0</td>\n",
              "      <td>7.0</td>\n",
              "      <td>1054.0</td>\n",
              "      <td>15.0</td>\n",
              "      <td>0.4</td>\n",
              "      <td>1.0</td>\n",
              "      <td>3.0</td>\n",
              "      <td>6.0</td>\n",
              "      <td>1088.0</td>\n",
              "      <td>15.0</td>\n",
              "      <td>1920.0</td>\n",
              "      <td>3.200295e+07</td>\n",
              "      <td>1</td>\n",
              "      <td>0</td>\n",
              "      <td>0</td>\n",
              "      <td>-0.078498</td>\n",
              "      <td>1</td>\n",
              "    </tr>\n",
              "    <tr>\n",
              "      <th>72254</th>\n",
              "      <td>75564</td>\n",
              "      <td>123</td>\n",
              "      <td>11375.0</td>\n",
              "      <td>6.0</td>\n",
              "      <td>6.0</td>\n",
              "      <td>1</td>\n",
              "      <td>40.717163</td>\n",
              "      <td>6085.0</td>\n",
              "      <td>-73.843124</td>\n",
              "      <td>2704000.0</td>\n",
              "      <td>0.84</td>\n",
              "      <td>6.0</td>\n",
              "      <td>5.0</td>\n",
              "      <td>1.0</td>\n",
              "      <td>6.0</td>\n",
              "      <td>83</td>\n",
              "      <td>0</td>\n",
              "      <td>0</td>\n",
              "      <td>0</td>\n",
              "      <td>0.0</td>\n",
              "      <td>0</td>\n",
              "      <td>0.0</td>\n",
              "      <td>0</td>\n",
              "      <td>0</td>\n",
              "      <td>6</td>\n",
              "      <td>6085.0</td>\n",
              "      <td>3255.0</td>\n",
              "      <td>0</td>\n",
              "      <td>18430.0</td>\n",
              "      <td>2513000.0</td>\n",
              "      <td>1925.0</td>\n",
              "      <td>0.1</td>\n",
              "      <td>0.0</td>\n",
              "      <td>9.0</td>\n",
              "      <td>654.0</td>\n",
              "      <td>16.0</td>\n",
              "      <td>0.7</td>\n",
              "      <td>2.0</td>\n",
              "      <td>7.0</td>\n",
              "      <td>1054.0</td>\n",
              "      <td>15.0</td>\n",
              "      <td>1.0</td>\n",
              "      <td>1.0</td>\n",
              "      <td>3.0</td>\n",
              "      <td>6.0</td>\n",
              "      <td>1088.0</td>\n",
              "      <td>15.0</td>\n",
              "      <td>1925.0</td>\n",
              "      <td>3.200501e+07</td>\n",
              "      <td>24</td>\n",
              "      <td>1</td>\n",
              "      <td>332</td>\n",
              "      <td>-0.025855</td>\n",
              "      <td>1</td>\n",
              "    </tr>\n",
              "    <tr>\n",
              "      <th>72255</th>\n",
              "      <td>75565</td>\n",
              "      <td>123</td>\n",
              "      <td>11375.0</td>\n",
              "      <td>5.0</td>\n",
              "      <td>6.0</td>\n",
              "      <td>1</td>\n",
              "      <td>40.717052</td>\n",
              "      <td>4564.0</td>\n",
              "      <td>-73.843025</td>\n",
              "      <td>2750000.0</td>\n",
              "      <td>0.84</td>\n",
              "      <td>5.0</td>\n",
              "      <td>4.0</td>\n",
              "      <td>1.0</td>\n",
              "      <td>6.0</td>\n",
              "      <td>83</td>\n",
              "      <td>0</td>\n",
              "      <td>0</td>\n",
              "      <td>0</td>\n",
              "      <td>0.0</td>\n",
              "      <td>0</td>\n",
              "      <td>0.0</td>\n",
              "      <td>0</td>\n",
              "      <td>0</td>\n",
              "      <td>6</td>\n",
              "      <td>4564.0</td>\n",
              "      <td>6603.0</td>\n",
              "      <td>0</td>\n",
              "      <td>24649.0</td>\n",
              "      <td>2893000.0</td>\n",
              "      <td>1925.0</td>\n",
              "      <td>0.1</td>\n",
              "      <td>0.0</td>\n",
              "      <td>9.0</td>\n",
              "      <td>654.0</td>\n",
              "      <td>16.0</td>\n",
              "      <td>0.7</td>\n",
              "      <td>2.0</td>\n",
              "      <td>7.0</td>\n",
              "      <td>1054.0</td>\n",
              "      <td>15.0</td>\n",
              "      <td>1.0</td>\n",
              "      <td>1.0</td>\n",
              "      <td>3.0</td>\n",
              "      <td>6.0</td>\n",
              "      <td>1088.0</td>\n",
              "      <td>15.0</td>\n",
              "      <td>1925.0</td>\n",
              "      <td>3.200501e+07</td>\n",
              "      <td>10</td>\n",
              "      <td>0</td>\n",
              "      <td>0</td>\n",
              "      <td>0.000000</td>\n",
              "      <td>1</td>\n",
              "    </tr>\n",
              "    <tr>\n",
              "      <th>72256</th>\n",
              "      <td>75566</td>\n",
              "      <td>37</td>\n",
              "      <td>11375.0</td>\n",
              "      <td>NaN</td>\n",
              "      <td>NaN</td>\n",
              "      <td>1</td>\n",
              "      <td>40.709549</td>\n",
              "      <td>1216.0</td>\n",
              "      <td>-73.854385</td>\n",
              "      <td>935000.0</td>\n",
              "      <td>0.84</td>\n",
              "      <td>NaN</td>\n",
              "      <td>NaN</td>\n",
              "      <td>NaN</td>\n",
              "      <td>NaN</td>\n",
              "      <td>27</td>\n",
              "      <td>0</td>\n",
              "      <td>0</td>\n",
              "      <td>0</td>\n",
              "      <td>0.0</td>\n",
              "      <td>0</td>\n",
              "      <td>0.0</td>\n",
              "      <td>0</td>\n",
              "      <td>0</td>\n",
              "      <td>1</td>\n",
              "      <td>1216.0</td>\n",
              "      <td>2367.0</td>\n",
              "      <td>0</td>\n",
              "      <td>4979.0</td>\n",
              "      <td>783000.0</td>\n",
              "      <td>1930.0</td>\n",
              "      <td>0.4</td>\n",
              "      <td>0.0</td>\n",
              "      <td>8.0</td>\n",
              "      <td>893.0</td>\n",
              "      <td>16.0</td>\n",
              "      <td>0.9</td>\n",
              "      <td>2.0</td>\n",
              "      <td>7.0</td>\n",
              "      <td>1054.0</td>\n",
              "      <td>15.0</td>\n",
              "      <td>0.1</td>\n",
              "      <td>1.0</td>\n",
              "      <td>3.0</td>\n",
              "      <td>6.0</td>\n",
              "      <td>1088.0</td>\n",
              "      <td>15.0</td>\n",
              "      <td>1930.0</td>\n",
              "      <td>3.202000e+07</td>\n",
              "      <td>1</td>\n",
              "      <td>1</td>\n",
              "      <td>50</td>\n",
              "      <td>0.000000</td>\n",
              "      <td>1</td>\n",
              "    </tr>\n",
              "    <tr>\n",
              "      <th>72257</th>\n",
              "      <td>75567</td>\n",
              "      <td>37</td>\n",
              "      <td>11375.0</td>\n",
              "      <td>2.0</td>\n",
              "      <td>3.0</td>\n",
              "      <td>1</td>\n",
              "      <td>40.712387</td>\n",
              "      <td>1450.0</td>\n",
              "      <td>-73.850288</td>\n",
              "      <td>820000.0</td>\n",
              "      <td>0.84</td>\n",
              "      <td>2.0</td>\n",
              "      <td>1.0</td>\n",
              "      <td>1.0</td>\n",
              "      <td>3.0</td>\n",
              "      <td>27</td>\n",
              "      <td>0</td>\n",
              "      <td>0</td>\n",
              "      <td>0</td>\n",
              "      <td>0.0</td>\n",
              "      <td>0</td>\n",
              "      <td>0.0</td>\n",
              "      <td>0</td>\n",
              "      <td>0</td>\n",
              "      <td>1</td>\n",
              "      <td>1450.0</td>\n",
              "      <td>1999.0</td>\n",
              "      <td>0</td>\n",
              "      <td>6563.0</td>\n",
              "      <td>1124000.0</td>\n",
              "      <td>1930.0</td>\n",
              "      <td>0.2</td>\n",
              "      <td>0.0</td>\n",
              "      <td>8.0</td>\n",
              "      <td>893.0</td>\n",
              "      <td>16.0</td>\n",
              "      <td>0.7</td>\n",
              "      <td>2.0</td>\n",
              "      <td>7.0</td>\n",
              "      <td>1054.0</td>\n",
              "      <td>15.0</td>\n",
              "      <td>0.4</td>\n",
              "      <td>1.0</td>\n",
              "      <td>3.0</td>\n",
              "      <td>6.0</td>\n",
              "      <td>1088.0</td>\n",
              "      <td>15.0</td>\n",
              "      <td>1930.0</td>\n",
              "      <td>3.200400e+07</td>\n",
              "      <td>1</td>\n",
              "      <td>1</td>\n",
              "      <td>57</td>\n",
              "      <td>-0.093264</td>\n",
              "      <td>1</td>\n",
              "    </tr>\n",
              "  </tbody>\n",
              "</table>\n",
              "<p>72258 rows × 54 columns</p>\n",
              "</div>\n",
              "      <button class=\"colab-df-convert\" onclick=\"convertToInteractive('df-73ed007f-8302-4a7e-afbe-e8dc5a82552c')\"\n",
              "              title=\"Convert this dataframe to an interactive table.\"\n",
              "              style=\"display:none;\">\n",
              "        \n",
              "  <svg xmlns=\"http://www.w3.org/2000/svg\" height=\"24px\"viewBox=\"0 0 24 24\"\n",
              "       width=\"24px\">\n",
              "    <path d=\"M0 0h24v24H0V0z\" fill=\"none\"/>\n",
              "    <path d=\"M18.56 5.44l.94 2.06.94-2.06 2.06-.94-2.06-.94-.94-2.06-.94 2.06-2.06.94zm-11 1L8.5 8.5l.94-2.06 2.06-.94-2.06-.94L8.5 2.5l-.94 2.06-2.06.94zm10 10l.94 2.06.94-2.06 2.06-.94-2.06-.94-.94-2.06-.94 2.06-2.06.94z\"/><path d=\"M17.41 7.96l-1.37-1.37c-.4-.4-.92-.59-1.43-.59-.52 0-1.04.2-1.43.59L10.3 9.45l-7.72 7.72c-.78.78-.78 2.05 0 2.83L4 21.41c.39.39.9.59 1.41.59.51 0 1.02-.2 1.41-.59l7.78-7.78 2.81-2.81c.8-.78.8-2.07 0-2.86zM5.41 20L4 18.59l7.72-7.72 1.47 1.35L5.41 20z\"/>\n",
              "  </svg>\n",
              "      </button>\n",
              "      \n",
              "  <style>\n",
              "    .colab-df-container {\n",
              "      display:flex;\n",
              "      flex-wrap:wrap;\n",
              "      gap: 12px;\n",
              "    }\n",
              "\n",
              "    .colab-df-convert {\n",
              "      background-color: #E8F0FE;\n",
              "      border: none;\n",
              "      border-radius: 50%;\n",
              "      cursor: pointer;\n",
              "      display: none;\n",
              "      fill: #1967D2;\n",
              "      height: 32px;\n",
              "      padding: 0 0 0 0;\n",
              "      width: 32px;\n",
              "    }\n",
              "\n",
              "    .colab-df-convert:hover {\n",
              "      background-color: #E2EBFA;\n",
              "      box-shadow: 0px 1px 2px rgba(60, 64, 67, 0.3), 0px 1px 3px 1px rgba(60, 64, 67, 0.15);\n",
              "      fill: #174EA6;\n",
              "    }\n",
              "\n",
              "    [theme=dark] .colab-df-convert {\n",
              "      background-color: #3B4455;\n",
              "      fill: #D2E3FC;\n",
              "    }\n",
              "\n",
              "    [theme=dark] .colab-df-convert:hover {\n",
              "      background-color: #434B5C;\n",
              "      box-shadow: 0px 1px 3px 1px rgba(0, 0, 0, 0.15);\n",
              "      filter: drop-shadow(0px 1px 2px rgba(0, 0, 0, 0.3));\n",
              "      fill: #FFFFFF;\n",
              "    }\n",
              "  </style>\n",
              "\n",
              "      <script>\n",
              "        const buttonEl =\n",
              "          document.querySelector('#df-73ed007f-8302-4a7e-afbe-e8dc5a82552c button.colab-df-convert');\n",
              "        buttonEl.style.display =\n",
              "          google.colab.kernel.accessAllowed ? 'block' : 'none';\n",
              "\n",
              "        async function convertToInteractive(key) {\n",
              "          const element = document.querySelector('#df-73ed007f-8302-4a7e-afbe-e8dc5a82552c');\n",
              "          const dataTable =\n",
              "            await google.colab.kernel.invokeFunction('convertToInteractive',\n",
              "                                                     [key], {});\n",
              "          if (!dataTable) return;\n",
              "\n",
              "          const docLinkHtml = 'Like what you see? Visit the ' +\n",
              "            '<a target=\"_blank\" href=https://colab.research.google.com/notebooks/data_table.ipynb>data table notebook</a>'\n",
              "            + ' to learn more about interactive tables.';\n",
              "          element.innerHTML = '';\n",
              "          dataTable['output_type'] = 'display_data';\n",
              "          await google.colab.output.renderOutput(dataTable, element);\n",
              "          const docLink = document.createElement('div');\n",
              "          docLink.innerHTML = docLinkHtml;\n",
              "          element.appendChild(docLink);\n",
              "        }\n",
              "      </script>\n",
              "    </div>\n",
              "  </div>\n",
              "  "
            ]
          },
          "metadata": {}
        }
      ],
      "source": [
        "df = pd.read_csv('processed_dataset.csv', low_memory=False)\n",
        "pd.options.display.max_columns = None\n",
        "display(df)"
      ]
    },
    {
      "cell_type": "code",
      "execution_count": 8,
      "metadata": {
        "colab": {
          "base_uri": "https://localhost:8080/"
        },
        "id": "9Qo_lN1dqwx5",
        "outputId": "811a1495-19f2-4b80-e00d-d668c7297d12"
      },
      "outputs": [
        {
          "output_type": "execute_result",
          "data": {
            "text/plain": [
              "(72258, 54)"
            ]
          },
          "metadata": {},
          "execution_count": 8
        }
      ],
      "source": [
        "df.shape"
      ]
    },
    {
      "cell_type": "code",
      "execution_count": 9,
      "metadata": {
        "id": "XrPohog0qwx5"
      },
      "outputs": [],
      "source": [
        "df = df.loc[(df['homeStatus'] <= 2)]\n",
        "df = df.loc[(df['price'] > 100)]\n",
        "df = df.drop(['zpid'], axis = 1) # This is the Zillow UID"
      ]
    },
    {
      "cell_type": "code",
      "execution_count": 10,
      "metadata": {
        "id": "w98AIxo3qwx6"
      },
      "outputs": [],
      "source": [
        "np.random.seed(0)\n",
        "y = df['price']\n",
        "X = df.drop('price', axis=1)\n",
        "\n",
        "# split into train and test\n",
        "test_ratio = 0.2\n",
        "train_indices = np.sort(np.random.choice(X.shape[0], int((1-test_ratio)*X.shape[0]), replace=False))\n",
        "test_indices = np.setdiff1d(np.arange(X.shape[0]), train_indices)\n",
        "\n",
        "train_indices = train_indices[:int(len(train_indices))]\n",
        "test_indices = test_indices[:int(len(test_indices))]\n",
        "\n",
        "X_train = X.iloc[train_indices]\n",
        "y_train = y.iloc[train_indices]\n",
        "X_test = X.iloc[test_indices]\n",
        "y_test = y.iloc[test_indices]"
      ]
    },
    {
      "cell_type": "code",
      "execution_count": 11,
      "metadata": {
        "id": "MDocLvZYqwx6"
      },
      "outputs": [],
      "source": [
        "imputer = KNNImputer(n_neighbors=5)\n",
        "X_train = imputer.fit_transform(X_train)\n",
        "X_test = imputer.transform(X_test)"
      ]
    },
    {
      "cell_type": "code",
      "execution_count": 12,
      "metadata": {
        "id": "FbRnznR5qwx6"
      },
      "outputs": [],
      "source": [
        "scaler = StandardScaler()\n",
        "X_train = scaler.fit_transform(X_train)\n",
        "X_test = scaler.transform(X_test)"
      ]
    },
    {
      "cell_type": "code",
      "execution_count": 13,
      "metadata": {
        "id": "PCvqNrVwqwx6"
      },
      "outputs": [],
      "source": [
        "df.to_csv('imputed_scaled_dataset_0.csv', index=True)"
      ]
    },
    {
      "cell_type": "markdown",
      "metadata": {
        "id": "onCxHShgqwx7"
      },
      "source": [
        "### EDA"
      ]
    },
    {
      "cell_type": "code",
      "execution_count": 14,
      "metadata": {
        "id": "R0OPDqONqwx8"
      },
      "outputs": [],
      "source": [
        "display_order = [\"price\", *df.columns.drop(\"price\")]\n",
        "plot_df = df[display_order]"
      ]
    },
    {
      "cell_type": "code",
      "source": [
        "# Make directory\n",
        "isExist = os.path.exists('static/')\n",
        "if not isExist:\n",
        "\n",
        "   # Create a new directory because it does not exist\n",
        "   os.makedirs('static/')"
      ],
      "metadata": {
        "id": "6mzB__mPJrIq"
      },
      "execution_count": 15,
      "outputs": []
    },
    {
      "cell_type": "code",
      "execution_count": 16,
      "metadata": {
        "colab": {
          "base_uri": "https://localhost:8080/",
          "height": 565
        },
        "id": "CfVDDL3Gqwx9",
        "outputId": "337d40a1-975b-49e9-82b9-1df62515b3ea"
      },
      "outputs": [
        {
          "output_type": "display_data",
          "data": {
            "text/plain": [
              "<Figure size 1152x432 with 2 Axes>"
            ],
            "image/png": "[encoded data removed]"
          },
          "metadata": {
            "needs_background": "light"
          }
        }
      ],
      "source": [
        "def plot_save_correlation():\n",
        "    plt.figure(figsize=(16, 6))\n",
        "\n",
        "    sns.heatmap(plot_df.corr(), vmin=-1, vmax=1, center=0, annot=False, cmap=\"vlag\")\n",
        "\n",
        "    plt.title(\"Correlation\", fontsize=20)\n",
        "\n",
        "    plt.savefig(\"static/correlation.png\", format=\"png\")\n",
        "    plt.show()\n",
        "\n",
        "\n",
        "plot_save_correlation()"
      ]
    },
    {
      "cell_type": "code",
      "execution_count": 17,
      "metadata": {
        "colab": {
          "base_uri": "https://localhost:8080/",
          "height": 565
        },
        "id": "WiKgT0Ipqwx-",
        "outputId": "f57305cc-e461-4303-984d-59f57fcb1c40"
      },
      "outputs": [
        {
          "output_type": "display_data",
          "data": {
            "text/plain": [
              "<Figure size 1152x432 with 2 Axes>"
            ],
            "image/png": "[encoded data removed]"
          },
          "metadata": {
            "needs_background": "light"
          }
        }
      ],
      "source": [
        "def plot_save_abs_correlation():\n",
        "    plt.figure(figsize=(16, 6))\n",
        "\n",
        "    sns.heatmap(\n",
        "        plot_df.corr().abs(),\n",
        "        vmin=0,\n",
        "        vmax=1,\n",
        "        annot=False,\n",
        "        cmap=sns.color_palette(\"light:#a9373b\", as_cmap=True),\n",
        "    )\n",
        "\n",
        "    plt.title(\"Absolute Value of Correlation\", fontsize=20)\n",
        "\n",
        "    plt.savefig(\"static/abs_correlation.png\", format=\"png\")\n",
        "    plt.show()\n",
        "\n",
        "\n",
        "plot_save_abs_correlation()"
      ]
    },
    {
      "cell_type": "markdown",
      "metadata": {
        "id": "DFjsLZMnqwx-"
      },
      "source": [
        "### Lasso Regression"
      ]
    },
    {
      "cell_type": "code",
      "execution_count": 18,
      "metadata": {
        "colab": {
          "base_uri": "https://localhost:8080/",
          "height": 74
        },
        "id": "eytFgVsKqwx_",
        "outputId": "0417a350-2b36-4214-8ebf-a36ebebe5863"
      },
      "outputs": [
        {
          "output_type": "execute_result",
          "data": {
            "text/plain": [
              "LassoCV(cv=10, max_iter=10000, random_state=0)"
            ],
            "text/html": [
              "<style>#sk-container-id-1 {color: black;background-color: white;}#sk-container-id-1 pre{padding: 0;}#sk-container-id-1 div.sk-toggleable {background-color: white;}#sk-container-id-1 label.sk-toggleable__label {cursor: pointer;display: block;width: 100%;margin-bottom: 0;padding: 0.3em;box-sizing: border-box;text-align: center;}#sk-container-id-1 label.sk-toggleable__label-arrow:before {content: \"▸\";float: left;margin-right: 0.25em;color: #696969;}#sk-container-id-1 label.sk-toggleable__label-arrow:hover:before {color: black;}#sk-container-id-1 div.sk-estimator:hover label.sk-toggleable__label-arrow:before {color: black;}#sk-container-id-1 div.sk-toggleable__content {max-height: 0;max-width: 0;overflow: hidden;text-align: left;background-color: #f0f8ff;}#sk-container-id-1 div.sk-toggleable__content pre {margin: 0.2em;color: black;border-radius: 0.25em;background-color: #f0f8ff;}#sk-container-id-1 input.sk-toggleable__control:checked~div.sk-toggleable__content {max-height: 200px;max-width: 100%;overflow: auto;}#sk-container-id-1 input.sk-toggleable__control:checked~label.sk-toggleable__label-arrow:before {content: \"▾\";}#sk-container-id-1 div.sk-estimator input.sk-toggleable__control:checked~label.sk-toggleable__label {background-color: #d4ebff;}#sk-container-id-1 div.sk-label input.sk-toggleable__control:checked~label.sk-toggleable__label {background-color: #d4ebff;}#sk-container-id-1 input.sk-hidden--visually {border: 0;clip: rect(1px 1px 1px 1px);clip: rect(1px, 1px, 1px, 1px);height: 1px;margin: -1px;overflow: hidden;padding: 0;position: absolute;width: 1px;}#sk-container-id-1 div.sk-estimator {font-family: monospace;background-color: #f0f8ff;border: 1px dotted black;border-radius: 0.25em;box-sizing: border-box;margin-bottom: 0.5em;}#sk-container-id-1 div.sk-estimator:hover {background-color: #d4ebff;}#sk-container-id-1 div.sk-parallel-item::after {content: \"\";width: 100%;border-bottom: 1px solid gray;flex-grow: 1;}#sk-container-id-1 div.sk-label:hover label.sk-toggleable__label {background-color: #d4ebff;}#sk-container-id-1 div.sk-serial::before {content: \"\";position: absolute;border-left: 1px solid gray;box-sizing: border-box;top: 0;bottom: 0;left: 50%;z-index: 0;}#sk-container-id-1 div.sk-serial {display: flex;flex-direction: column;align-items: center;background-color: white;padding-right: 0.2em;padding-left: 0.2em;position: relative;}#sk-container-id-1 div.sk-item {position: relative;z-index: 1;}#sk-container-id-1 div.sk-parallel {display: flex;align-items: stretch;justify-content: center;background-color: white;position: relative;}#sk-container-id-1 div.sk-item::before, #sk-container-id-1 div.sk-parallel-item::before {content: \"\";position: absolute;border-left: 1px solid gray;box-sizing: border-box;top: 0;bottom: 0;left: 50%;z-index: -1;}#sk-container-id-1 div.sk-parallel-item {display: flex;flex-direction: column;z-index: 1;position: relative;background-color: white;}#sk-container-id-1 div.sk-parallel-item:first-child::after {align-self: flex-end;width: 50%;}#sk-container-id-1 div.sk-parallel-item:last-child::after {align-self: flex-start;width: 50%;}#sk-container-id-1 div.sk-parallel-item:only-child::after {width: 0;}#sk-container-id-1 div.sk-dashed-wrapped {border: 1px dashed gray;margin: 0 0.4em 0.5em 0.4em;box-sizing: border-box;padding-bottom: 0.4em;background-color: white;}#sk-container-id-1 div.sk-label label {font-family: monospace;font-weight: bold;display: inline-block;line-height: 1.2em;}#sk-container-id-1 div.sk-label-container {text-align: center;}#sk-container-id-1 div.sk-container {/* jupyter's `normalize.less` sets `[hidden] { display: none; }` but bootstrap.min.css set `[hidden] { display: none !important; }` so we also need the `!important` here to be able to override the default hidden behavior on the sphinx rendered scikit-learn.org. See: https://github.com/scikit-learn/scikit-learn/issues/21755 */display: inline-block !important;position: relative;}#sk-container-id-1 div.sk-text-repr-fallback {display: none;}</style><div id=\"sk-container-id-1\" class=\"sk-top-container\"><div class=\"sk-text-repr-fallback\"><pre>LassoCV(cv=10, max_iter=10000, random_state=0)</pre><b>In a Jupyter environment, please rerun this cell to show the HTML representation or trust the notebook. <br />On GitHub, the HTML representation is unable to render, please try loading this page with nbviewer.org.</b></div><div class=\"sk-container\" hidden><div class=\"sk-item\"><div class=\"sk-estimator sk-toggleable\"><input class=\"sk-toggleable__control sk-hidden--visually\" id=\"sk-estimator-id-1\" type=\"checkbox\" checked><label for=\"sk-estimator-id-1\" class=\"sk-toggleable__label sk-toggleable__label-arrow\">LassoCV</label><div class=\"sk-toggleable__content\"><pre>LassoCV(cv=10, max_iter=10000, random_state=0)</pre></div></div></div></div></div>"
            ]
          },
          "metadata": {},
          "execution_count": 18
        }
      ],
      "source": [
        "# Lasso with 10 fold cross-validation\n",
        "model = LassoCV(cv=10, random_state=0, max_iter = 10000)\n",
        "\n",
        "# Fit model\n",
        "model.fit(X_train, y_train)"
      ]
    },
    {
      "cell_type": "code",
      "source": [
        "# best value of penalization chosen by cross validation:\n",
        "model.alpha_"
      ],
      "metadata": {
        "colab": {
          "base_uri": "https://localhost:8080/"
        },
        "id": "4s1BXcDbDA_c",
        "outputId": "cc2b4c0e-e379-4f09-f678-5c5c4d4f9be0"
      },
      "execution_count": 19,
      "outputs": [
        {
          "output_type": "execute_result",
          "data": {
            "text/plain": [
              "132125.94727224633"
            ]
          },
          "metadata": {},
          "execution_count": 19
        }
      ]
    },
    {
      "cell_type": "code",
      "source": [
        "# Set best alpha\n",
        "lasso_best = Lasso(alpha=model.alpha_)\n",
        "lasso_best.fit(X_train, y_train)"
      ],
      "metadata": {
        "colab": {
          "base_uri": "https://localhost:8080/",
          "height": 74
        },
        "id": "y7aun4EADQpk",
        "outputId": "1fd5a898-f33c-488b-b72a-377fe624e56c"
      },
      "execution_count": 20,
      "outputs": [
        {
          "output_type": "execute_result",
          "data": {
            "text/plain": [
              "Lasso(alpha=132125.94727224633)"
            ],
            "text/html": [
              "<style>#sk-container-id-2 {color: black;background-color: white;}#sk-container-id-2 pre{padding: 0;}#sk-container-id-2 div.sk-toggleable {background-color: white;}#sk-container-id-2 label.sk-toggleable__label {cursor: pointer;display: block;width: 100%;margin-bottom: 0;padding: 0.3em;box-sizing: border-box;text-align: center;}#sk-container-id-2 label.sk-toggleable__label-arrow:before {content: \"▸\";float: left;margin-right: 0.25em;color: #696969;}#sk-container-id-2 label.sk-toggleable__label-arrow:hover:before {color: black;}#sk-container-id-2 div.sk-estimator:hover label.sk-toggleable__label-arrow:before {color: black;}#sk-container-id-2 div.sk-toggleable__content {max-height: 0;max-width: 0;overflow: hidden;text-align: left;background-color: #f0f8ff;}#sk-container-id-2 div.sk-toggleable__content pre {margin: 0.2em;color: black;border-radius: 0.25em;background-color: #f0f8ff;}#sk-container-id-2 input.sk-toggleable__control:checked~div.sk-toggleable__content {max-height: 200px;max-width: 100%;overflow: auto;}#sk-container-id-2 input.sk-toggleable__control:checked~label.sk-toggleable__label-arrow:before {content: \"▾\";}#sk-container-id-2 div.sk-estimator input.sk-toggleable__control:checked~label.sk-toggleable__label {background-color: #d4ebff;}#sk-container-id-2 div.sk-label input.sk-toggleable__control:checked~label.sk-toggleable__label {background-color: #d4ebff;}#sk-container-id-2 input.sk-hidden--visually {border: 0;clip: rect(1px 1px 1px 1px);clip: rect(1px, 1px, 1px, 1px);height: 1px;margin: -1px;overflow: hidden;padding: 0;position: absolute;width: 1px;}#sk-container-id-2 div.sk-estimator {font-family: monospace;background-color: #f0f8ff;border: 1px dotted black;border-radius: 0.25em;box-sizing: border-box;margin-bottom: 0.5em;}#sk-container-id-2 div.sk-estimator:hover {background-color: #d4ebff;}#sk-container-id-2 div.sk-parallel-item::after {content: \"\";width: 100%;border-bottom: 1px solid gray;flex-grow: 1;}#sk-container-id-2 div.sk-label:hover label.sk-toggleable__label {background-color: #d4ebff;}#sk-container-id-2 div.sk-serial::before {content: \"\";position: absolute;border-left: 1px solid gray;box-sizing: border-box;top: 0;bottom: 0;left: 50%;z-index: 0;}#sk-container-id-2 div.sk-serial {display: flex;flex-direction: column;align-items: center;background-color: white;padding-right: 0.2em;padding-left: 0.2em;position: relative;}#sk-container-id-2 div.sk-item {position: relative;z-index: 1;}#sk-container-id-2 div.sk-parallel {display: flex;align-items: stretch;justify-content: center;background-color: white;position: relative;}#sk-container-id-2 div.sk-item::before, #sk-container-id-2 div.sk-parallel-item::before {content: \"\";position: absolute;border-left: 1px solid gray;box-sizing: border-box;top: 0;bottom: 0;left: 50%;z-index: -1;}#sk-container-id-2 div.sk-parallel-item {display: flex;flex-direction: column;z-index: 1;position: relative;background-color: white;}#sk-container-id-2 div.sk-parallel-item:first-child::after {align-self: flex-end;width: 50%;}#sk-container-id-2 div.sk-parallel-item:last-child::after {align-self: flex-start;width: 50%;}#sk-container-id-2 div.sk-parallel-item:only-child::after {width: 0;}#sk-container-id-2 div.sk-dashed-wrapped {border: 1px dashed gray;margin: 0 0.4em 0.5em 0.4em;box-sizing: border-box;padding-bottom: 0.4em;background-color: white;}#sk-container-id-2 div.sk-label label {font-family: monospace;font-weight: bold;display: inline-block;line-height: 1.2em;}#sk-container-id-2 div.sk-label-container {text-align: center;}#sk-container-id-2 div.sk-container {/* jupyter's `normalize.less` sets `[hidden] { display: none; }` but bootstrap.min.css set `[hidden] { display: none !important; }` so we also need the `!important` here to be able to override the default hidden behavior on the sphinx rendered scikit-learn.org. See: https://github.com/scikit-learn/scikit-learn/issues/21755 */display: inline-block !important;position: relative;}#sk-container-id-2 div.sk-text-repr-fallback {display: none;}</style><div id=\"sk-container-id-2\" class=\"sk-top-container\"><div class=\"sk-text-repr-fallback\"><pre>Lasso(alpha=132125.94727224633)</pre><b>In a Jupyter environment, please rerun this cell to show the HTML representation or trust the notebook. <br />On GitHub, the HTML representation is unable to render, please try loading this page with nbviewer.org.</b></div><div class=\"sk-container\" hidden><div class=\"sk-item\"><div class=\"sk-estimator sk-toggleable\"><input class=\"sk-toggleable__control sk-hidden--visually\" id=\"sk-estimator-id-2\" type=\"checkbox\" checked><label for=\"sk-estimator-id-2\" class=\"sk-toggleable__label sk-toggleable__label-arrow\">Lasso</label><div class=\"sk-toggleable__content\"><pre>Lasso(alpha=132125.94727224633)</pre></div></div></div></div></div>"
            ]
          },
          "metadata": {},
          "execution_count": 20
        }
      ]
    },
    {
      "cell_type": "code",
      "source": [
        "# model coefficients and names:\n",
        "for beta, x in list(zip(lasso_best.coef_, X)):\n",
        "  if abs(beta) > 0:\n",
        "    print(x, ':', beta)"
      ],
      "metadata": {
        "colab": {
          "base_uri": "https://localhost:8080/"
        },
        "id": "uFVOgLIfDlch",
        "outputId": "b10643e7-e386-402b-e867-f0bde3d64695"
      },
      "execution_count": 21,
      "outputs": [
        {
          "output_type": "stream",
          "name": "stdout",
          "text": [
            "livingArea : 66144.12866408851\n",
            "propertyTaxRate : -21984.06028449041\n",
            "resoFactsStats/bathroomsFull : 188685.52703259126\n",
            "resoFactsStats/homeType : 36716.71330477778\n",
            "resoFactsStats/livingArea : 5932.700197263384\n",
            "schools/0/rating : 16420.379086146524\n",
            "schools/2/rating : 365105.24051429867\n",
            "schools/2/studentsPerTeacher : -175249.75404408987\n",
            "description_lengths : 233082.5079724662\n"
          ]
        }
      ]
    },
    {
      "cell_type": "code",
      "source": [
        "# Model evaluation\n",
        "print('R squared training set', round(lasso_best.score(X_train, y_train)*100, 2))\n",
        "print('R squared test set', round(lasso_best.score(X_test, y_test)*100, 2))"
      ],
      "metadata": {
        "colab": {
          "base_uri": "https://localhost:8080/"
        },
        "id": "KdTmXw8lDrEi",
        "outputId": "5a5eb12a-7b5e-45dc-ade4-bf508c0c14b1"
      },
      "execution_count": 22,
      "outputs": [
        {
          "output_type": "stream",
          "name": "stdout",
          "text": [
            "R squared training set 8.53\n",
            "R squared test set 7.49\n"
          ]
        }
      ]
    },
    {
      "cell_type": "code",
      "source": [
        "# MSE\n",
        "mean_squared_error(y_test, lasso_best.predict(X_test))"
      ],
      "metadata": {
        "colab": {
          "base_uri": "https://localhost:8080/"
        },
        "id": "Pa8Cs6LvD8Vq",
        "outputId": "9b5e91d3-c2c4-486a-8d61-dc78b2032b6d"
      },
      "execution_count": 23,
      "outputs": [
        {
          "output_type": "execute_result",
          "data": {
            "text/plain": [
              "9439589670830.604"
            ]
          },
          "metadata": {},
          "execution_count": 23
        }
      ]
    },
    {
      "cell_type": "code",
      "source": [
        "# Lasso path: plot results of cross-validation with mean squared erros\n",
        "plt.semilogx(model.alphas_, model.mse_path_, \":\")\n",
        "plt.plot(\n",
        "    model.alphas_ ,\n",
        "    model.mse_path_.mean(axis=-1),\n",
        "    \"k\",\n",
        "    label=\"Average across the folds\",\n",
        "    linewidth=2,\n",
        ")\n",
        "plt.axvline(\n",
        "    model.alpha_, linestyle=\"--\", color=\"k\", label=\"alpha: CV estimate\"\n",
        ")\n",
        "\n",
        "plt.legend()\n",
        "plt.xlabel(\"alphas\")\n",
        "plt.ylabel(\"Mean square error\")\n",
        "plt.title(\"Mean square error on each fold\")\n",
        "plt.axis(\"tight\")\n",
        "\n",
        "ymin, ymax = 50000, 250000\n",
        "plt.ylim(ymin, ymax);"
      ],
      "metadata": {
        "colab": {
          "base_uri": "https://localhost:8080/",
          "height": 299
        },
        "id": "zHDwvasXECxB",
        "outputId": "458d2178-a19c-40af-dd70-be059db8de23"
      },
      "execution_count": 24,
      "outputs": [
        {
          "output_type": "display_data",
          "data": {
            "text/plain": [
              "<Figure size 432x288 with 1 Axes>"
            ],
            "image/png": "[encoded data removed]"
          },
          "metadata": {
            "needs_background": "light"
          }
        }
      ]
    },
    {
      "cell_type": "markdown",
      "source": [
        "With Interactions"
      ],
      "metadata": {
        "id": "p6c_TMbpGG5M"
      }
    },
    {
      "cell_type": "code",
      "source": [
        "print(df['schools/2/isAssigned'].unique())"
      ],
      "metadata": {
        "colab": {
          "base_uri": "https://localhost:8080/"
        },
        "id": "7ReoJpR5MCqZ",
        "outputId": "ad77ed4e-18a8-4e6c-a12f-ac34444153ee"
      },
      "execution_count": 25,
      "outputs": [
        {
          "output_type": "stream",
          "name": "stdout",
          "text": [
            "[nan  1.]\n"
          ]
        }
      ]
    },
    {
      "cell_type": "code",
      "source": [
        "# Create dummies of categorical data\n",
        "dummify = ['address/city', 'address/zipcode', 'resoFactsStats/cityRegion', 'resoFactsStats/homeType']\n",
        "X_new = X\n",
        "X_new[dummify] = X_new[dummify].astype(str)\n",
        "X_new = pd.get_dummies(X_new, prefix=dummify, columns=dummify)"
      ],
      "metadata": {
        "id": "RjTuQbCkGGPD"
      },
      "execution_count": 26,
      "outputs": []
    },
    {
      "cell_type": "code",
      "source": [
        "# Columns with missing values\n",
        "miss = X_new.columns[X_new.isnull().any()].tolist()\n",
        "X_new[miss].isnull().sum()"
      ],
      "metadata": {
        "colab": {
          "base_uri": "https://localhost:8080/"
        },
        "id": "tUNxqpnnY7am",
        "outputId": "3f832ead-5f48-4b95-db51-0d18c0984121"
      },
      "execution_count": 27,
      "outputs": [
        {
          "output_type": "execute_result",
          "data": {
            "text/plain": [
              "bathrooms                          16938\n",
              "bedrooms                           17425\n",
              "latitude                               1\n",
              "livingArea                          9147\n",
              "longitude                              1\n",
              "propertyTaxRate                       16\n",
              "resoFactsStats/bathrooms           13493\n",
              "resoFactsStats/bathroomsFull       17676\n",
              "resoFactsStats/bathroomsHalf       17614\n",
              "resoFactsStats/bedrooms            14379\n",
              "resoFactsStats/hasCooling           2542\n",
              "resoFactsStats/hasHeating           1082\n",
              "resoFactsStats/livingArea           9118\n",
              "resoFactsStats/lotSize             11091\n",
              "resoFactsStats/taxAnnualAmount     10511\n",
              "resoFactsStats/taxAssessedValue    12415\n",
              "resoFactsStats/yearBuilt            5615\n",
              "schools/0/distance                   127\n",
              "schools/0/level                      127\n",
              "schools/0/rating                     966\n",
              "schools/0/size                       579\n",
              "schools/0/studentsPerTeacher        1062\n",
              "schools/1/distance                   865\n",
              "schools/1/level                      865\n",
              "schools/1/rating                    1051\n",
              "schools/1/size                      1088\n",
              "schools/1/studentsPerTeacher        2649\n",
              "schools/2/distance                 19114\n",
              "schools/2/isAssigned               19114\n",
              "schools/2/level                    19114\n",
              "schools/2/rating                   19147\n",
              "schools/2/size                     19165\n",
              "schools/2/studentsPerTeacher       19635\n",
              "yearBuilt                           5655\n",
              "priceChangeRate                      540\n",
              "dtype: int64"
            ]
          },
          "metadata": {},
          "execution_count": 27
        }
      ]
    },
    {
      "cell_type": "code",
      "source": [
        "# Dropping rows with missing values for EDA\n",
        "X_new = X_new.dropna()"
      ],
      "metadata": {
        "id": "G1HGsrUJfBfy"
      },
      "execution_count": 28,
      "outputs": []
    },
    {
      "cell_type": "code",
      "source": [
        "# Create Interactions\n",
        "poly = PolynomialFeatures(interaction_only=True,include_bias = False)\n",
        "poly.fit_transform(X_new)\n",
        "\n",
        "print(X_new.head())"
      ],
      "metadata": {
        "id": "4tZq4W7MMcBZ"
      },
      "execution_count": null,
      "outputs": []
    },
    {
      "cell_type": "code",
      "source": [
        "# Redefine training and test sets\n",
        "train_indices_new = X_new.index.intersection(train_indices)\n",
        "#print(X_new.index, train_indices_new, train_indices)\n",
        "\n",
        "X_train_new = X_new.loc[train_indices_new]\n",
        "y_train_new = y.loc[train_indices_new]\n",
        "\n",
        "X_test_new = X_new.loc[test_indices_new]\n",
        "y_test_new = y.loc[test_indices_new]"
      ],
      "metadata": {
        "id": "ukau5skxRrL-"
      },
      "execution_count": null,
      "outputs": []
    },
    {
      "cell_type": "code",
      "source": [
        "# Lasso with 10 fold cross-validation\n",
        "model_new = LassoCV(cv=10, random_state=0, max_iter = 10000)\n",
        "\n",
        "# Fit model\n",
        "model_new.fit(X_train_new, y_train_new)"
      ],
      "metadata": {
        "id": "5KswAvMTTpXF"
      },
      "execution_count": null,
      "outputs": []
    },
    {
      "cell_type": "code",
      "source": [
        "# best value of penalization chosen by cross validation:\n",
        "model_new.alpha_"
      ],
      "metadata": {
        "id": "IKGhUhQDTu_1"
      },
      "execution_count": null,
      "outputs": []
    },
    {
      "cell_type": "code",
      "source": [
        "# Set best alpha\n",
        "lasso_best_new = Lasso(alpha=model_new.alpha_)\n",
        "lasso_best_new.fit(X_train_new, y_train_new)"
      ],
      "metadata": {
        "id": "YnsAFpz-T2od"
      },
      "execution_count": null,
      "outputs": []
    },
    {
      "cell_type": "code",
      "source": [
        "# model coefficients and names:\n",
        "for beta, x in list(zip(lasso_best_new.coef_, X_new)):\n",
        "  if abs(beta) > 0:\n",
        "    print(x, ':', beta)"
      ],
      "metadata": {
        "id": "SRang2kHT9c1"
      },
      "execution_count": null,
      "outputs": []
    },
    {
      "cell_type": "code",
      "source": [
        "# Model evaluation\n",
        "print('R squared training set', round(lasso_best_new.score(X_train_new, y_train_new)*100, 2))\n",
        "print('R squared test set', round(lasso_best_new.score(X_test_new, y_test_new)*100, 2))"
      ],
      "metadata": {
        "id": "NsaZn4LuUJgk"
      },
      "execution_count": null,
      "outputs": []
    },
    {
      "cell_type": "code",
      "source": [
        "# MSE\n",
        "mean_squared_error(y_test_new, lasso_best_new.predict(X_test_new))"
      ],
      "metadata": {
        "id": "i8CP3k_dUXC2"
      },
      "execution_count": null,
      "outputs": []
    },
    {
      "cell_type": "code",
      "source": [
        "# Lasso path: plot results of cross-validation with mean squared erros\n",
        "plt.semilogx(model_new.alphas_, model_new.mse_path_, \":\")\n",
        "plt.plot(\n",
        "    model_new.alphas_ ,\n",
        "    model_new.mse_path_.mean(axis=-1),\n",
        "    \"k\",\n",
        "    label=\"Average across the folds\",\n",
        "    linewidth=2,\n",
        ")\n",
        "plt.axvline(\n",
        "    model_new.alpha_, linestyle=\"--\", color=\"k\", label=\"alpha: CV estimate\"\n",
        ")\n",
        "\n",
        "plt.legend()\n",
        "plt.xlabel(\"alphas\")\n",
        "plt.ylabel(\"Mean square error\")\n",
        "plt.title(\"Mean square error on each fold\")\n",
        "plt.axis(\"tight\")\n",
        "\n",
        "ymin, ymax = 50000, 250000\n",
        "plt.ylim(ymin, ymax);"
      ],
      "metadata": {
        "id": "t-ukAK2MUevl"
      },
      "execution_count": null,
      "outputs": []
    }
  ],
  "metadata": {
    "kernelspec": {
      "display_name": "python3.10.5",
      "language": "python",
      "name": "python3.10.5"
    },
    "language_info": {
      "codemirror_mode": {
        "name": "ipython",
        "version": 3
      },
      "file_extension": ".py",
      "mimetype": "text/x-python",
      "name": "python",
      "nbconvert_exporter": "python",
      "pygments_lexer": "ipython3",
      "version": "3.10.5"
    },
    "vscode": {
      "interpreter": {
        "hash": "0163732830db25dc078d3027c756dfdbec9bc22e784d48b7fd5f8168fb337cbd"
      }
    },
    "colab": {
      "provenance": []
    },
    "accelerator": "GPU",
    "gpuClass": "standard"
  },
  "nbformat": 4,
  "nbformat_minor": 0
}