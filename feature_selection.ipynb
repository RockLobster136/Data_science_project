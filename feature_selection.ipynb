{
 "cells": [
  {
   "cell_type": "code",
   "execution_count": 5,
   "metadata": {},
   "outputs": [],
   "source": [
    "import pandas as pd\n",
    "import numpy as np\n",
    "from sklearn.tree import DecisionTreeRegressor\n",
    "from sklearn.ensemble import RandomForestRegressor\n",
    "from sklearn.impute import KNNImputer\n",
    "from sklearn.preprocessing import StandardScaler"
   ]
  },
  {
   "cell_type": "code",
   "execution_count": 2,
   "metadata": {},
   "outputs": [],
   "source": [
    "impute_and_scale = False\n",
    "\n",
    "if impute_and_scale:\n",
    "    np.random.seed(0)\n",
    "    df = pd.read_csv('processed_dataset.csv')\n",
    "\n",
    "    df = df.loc[(df['homeStatus'] <= 2)]\n",
    "    df = df.loc[(df['price'] > 100)]\n",
    "\n",
    "    # split into train and test\n",
    "    test_ratio = 0.2\n",
    "    train_indices = np.sort(np.random.choice(df.shape[0], int((1-test_ratio)*df.shape[0]), replace=False))\n",
    "    test_indices = np.setdiff1d(np.arange(df.shape[0]), train_indices)\n",
    "\n",
    "    #train_indices = train_indices[:int(len(train_indices))]\n",
    "    #test_indices = test_indices[:int(len(test_indices))]\n",
    "\n",
    "    X_train = X.iloc[train_indices]\n",
    "    y_train = y.iloc[train_indices]\n",
    "    X_test = X.iloc[test_indices]\n",
    "    y_test = y.iloc[test_indices]\n",
    "\n",
    "    imputer = KNNImputer(n_neighbors=5)\n",
    "    X_train = imputer.fit_transform(X_train)\n",
    "    X_test = imputer.transform(X_test)\n",
    "\n",
    "    scaler = StandardScaler()\n",
    "    X_train = scaler.fit_transform(X_train)\n",
    "    X_test = scaler.transform(X_test)\n",
    "\n",
    "    df.to_csv('imputed_scaled_dataset_0.csv', index=True)"
   ]
  },
  {
   "cell_type": "code",
   "execution_count": 3,
   "metadata": {},
   "outputs": [],
   "source": [
    "df = pd.read_csv('imputed_scaled_dataset_0.csv')"
   ]
  },
  {
   "cell_type": "code",
   "execution_count": 4,
   "metadata": {},
   "outputs": [
    {
     "ename": "NameError",
     "evalue": "name 'train_indices' is not defined",
     "output_type": "error",
     "traceback": [
      "\u001b[0;31m---------------------------------------------------------------------------\u001b[0m",
      "\u001b[0;31mNameError\u001b[0m                                 Traceback (most recent call last)",
      "Cell \u001b[0;32mIn[4], line 4\u001b[0m\n\u001b[1;32m      1\u001b[0m y \u001b[39m=\u001b[39m df[\u001b[39m'\u001b[39m\u001b[39mprice\u001b[39m\u001b[39m'\u001b[39m]\n\u001b[1;32m      2\u001b[0m X \u001b[39m=\u001b[39m df\u001b[39m.\u001b[39mdrop(\u001b[39m'\u001b[39m\u001b[39mprice\u001b[39m\u001b[39m'\u001b[39m, axis\u001b[39m=\u001b[39m\u001b[39m1\u001b[39m)\n\u001b[0;32m----> 4\u001b[0m X_train \u001b[39m=\u001b[39m X\u001b[39m.\u001b[39miloc[train_indices]\n\u001b[1;32m      5\u001b[0m y_train \u001b[39m=\u001b[39m y\u001b[39m.\u001b[39miloc[train_indices]\n\u001b[1;32m      6\u001b[0m X_test \u001b[39m=\u001b[39m X\u001b[39m.\u001b[39miloc[test_indices]\n",
      "\u001b[0;31mNameError\u001b[0m: name 'train_indices' is not defined"
     ]
    }
   ],
   "source": [
    "y = df['price']\n",
    "X = df.drop('price', axis=1)\n",
    "\n",
    "# split into train and test\n",
    "np.random.seed(0)\n",
    "test_ratio = 0.2\n",
    "train_indices = np.sort(np.random.choice(df.shape[0], int((1-test_ratio)*df.shape[0]), replace=False))\n",
    "test_indices = np.setdiff1d(np.arange(df.shape[0]), train_indices)\n",
    "\n",
    "\n",
    "X_train = X.iloc[train_indices]\n",
    "y_train = y.iloc[train_indices]\n",
    "X_test = X.iloc[test_indices]\n",
    "y_test = y.iloc[test_indices]"
   ]
  },
  {
   "cell_type": "code",
   "execution_count": null,
   "metadata": {},
   "outputs": [],
   "source": []
  }
 ],
 "metadata": {
  "kernelspec": {
   "display_name": "meshes",
   "language": "python",
   "name": "python3"
  },
  "language_info": {
   "codemirror_mode": {
    "name": "ipython",
    "version": 3
   },
   "file_extension": ".py",
   "mimetype": "text/x-python",
   "name": "python",
   "nbconvert_exporter": "python",
   "pygments_lexer": "ipython3",
   "version": "3.8.16"
  },
  "orig_nbformat": 4,
  "vscode": {
   "interpreter": {
    "hash": "0163732830db25dc078d3027c756dfdbec9bc22e784d48b7fd5f8168fb337cbd"
   }
  }
 },
 "nbformat": 4,
 "nbformat_minor": 2
}
