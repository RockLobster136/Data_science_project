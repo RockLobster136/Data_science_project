{
 "cells": [
  {
   "cell_type": "code",
   "execution_count": 1,
   "metadata": {},
   "outputs": [],
   "source": [
    "import pandas as pd\n",
    "import numpy as np\n",
    "from sklearn.impute import KNNImputer\n",
    "from sklearn.preprocessing import StandardScaler"
   ]
  },
  {
   "cell_type": "code",
   "execution_count": 2,
   "metadata": {},
   "outputs": [],
   "source": [
    "impute_and_scale = False\n",
    "\n",
    "if impute_and_scale:\n",
    "    np.random.seed(0)\n",
    "    df = pd.read_csv('processed_dataset.csv')\n",
    "    df = df.drop(['Unnamed: 0'], axis=1)\n",
    "\n",
    "    # split into train and test\n",
    "    test_ratio = 0.2\n",
    "    train_indices = np.sort(np.random.choice(df.shape[0], int((1-test_ratio)*df.shape[0]), replace=False))\n",
    "    test_indices = np.setdiff1d(np.arange(df.shape[0]), train_indices)\n",
    "\n",
    "    #train_indices = train_indices[:int(0.05*len(train_indices))]\n",
    "    #test_indices = test_indices[:int(0.05*len(test_indices))]\n",
    "\n",
    "    y = df['price']\n",
    "    X = df.drop('price', axis=1)\n",
    "\n",
    "    X_train = X.iloc[train_indices]\n",
    "    y_train = y.iloc[train_indices]\n",
    "    X_test = X.iloc[test_indices]\n",
    "    y_test = y.iloc[test_indices]\n",
    "\n",
    "    imputer = KNNImputer(n_neighbors=5)\n",
    "    X_train = imputer.fit_transform(X_train)\n",
    "    X_test = imputer.transform(X_test)\n",
    "    \n",
    "    imputed_array = np.zeros((df.shape[0], df.shape[1]))\n",
    "    imputed_array[train_indices, :] = np.concatenate((X_train, y_train.values.reshape(-1,1)), axis=1)\n",
    "    imputed_array[test_indices, :] = np.concatenate((X_test, y_test.values.reshape(-1,1)), axis=1)\n",
    "    column_names = list(df.columns[:8]) + list(df.columns[9:]) + [df.columns[8]]\n",
    "    \n",
    "    df = pd.DataFrame(imputed_array, columns=column_names)\n",
    "\n",
    "    y = df['price']\n",
    "    X = df.drop('price', axis=1)\n",
    "\n",
    "    X_train = X.iloc[train_indices]\n",
    "    y_train = y.iloc[train_indices]\n",
    "    X_test = X.iloc[test_indices]\n",
    "    y_test = y.iloc[test_indices]\n",
    "\n",
    "    scaler = StandardScaler()\n",
    "    X_train = scaler.fit_transform(X_train)\n",
    "    X_test = scaler.transform(X_test)\n",
    "\n",
    "    scaled_array = np.zeros((df.shape[0], df.shape[1]))\n",
    "    scaled_array[train_indices, :] = np.concatenate((X_train, y_train.values.reshape(-1,1)), axis=1)\n",
    "    scaled_array[test_indices, :] = np.concatenate((X_test, y_test.values.reshape(-1,1)), axis=1)\n",
    "\n",
    "    df = pd.DataFrame(scaled_array, columns=column_names)\n",
    "\n",
    "    df.to_csv('imputed_scaled_dataset_0.csv')\n",
    "else:\n",
    "    df = pd.read_csv('imputed_scaled_dataset_0.csv')\n",
    "    df = df.drop(['Unnamed: 0'], axis=1)"
   ]
  },
  {
   "cell_type": "code",
   "execution_count": 3,
   "metadata": {},
   "outputs": [],
   "source": [
    "y = df['price']\n",
    "X = df.drop('price', axis=1)\n",
    "\n",
    "# split into train and test\n",
    "np.random.seed(0)\n",
    "test_ratio = 0.2\n",
    "train_indices = np.sort(np.random.choice(df.shape[0], int((1-test_ratio)*df.shape[0]), replace=False))\n",
    "test_indices = np.setdiff1d(np.arange(df.shape[0]), train_indices)\n",
    "\n",
    "X_train = X.iloc[train_indices]\n",
    "y_train = y.iloc[train_indices]\n",
    "X_test = X.iloc[test_indices]\n",
    "y_test = y.iloc[test_indices]"
   ]
  },
  {
   "cell_type": "code",
   "execution_count": 4,
   "metadata": {},
   "outputs": [
    {
     "name": "stdout",
     "output_type": "stream",
     "text": [
      "homeStatus [0.60768358 0.15091755 0.24139888]\n",
      "resoFactsStats/hasAttachedGarage [0.96547095 0.03452905]\n",
      "resoFactsStats/hasAttachedProperty [0.94858701 0.05141299]\n",
      "resoFactsStats/hasGarage [0.79527526 0.20472474]\n",
      "resoFactsStats/hasOpenParking [0.96053032 0.03946968]\n",
      "resoFactsStats/hasView [0.93149547 0.06850453]\n",
      "schools/2/isAssigned [1.]\n",
      "description_exists [0.51065626 0.48934374]\n"
     ]
    }
   ],
   "source": [
    "for i, column_name in enumerate(df.columns):\n",
    "    values, counts = np.unique(df[column_name].astype(str), return_counts=True)\n",
    "    if len(values) < 10 and counts[0]/len(df[column_name]) > 0.5:\n",
    "        print(column_name, counts/len(df[column_name]))    "
   ]
  },
  {
   "cell_type": "code",
   "execution_count": 29,
   "metadata": {},
   "outputs": [
    {
     "name": "stdout",
     "output_type": "stream",
     "text": [
      "Index(['address/zipcode', 'bathrooms', 'homeStatus', 'latitude', 'livingArea',\n",
      "       'longitude', 'resoFactsStats/bathrooms', 'resoFactsStats/bathroomsFull',\n",
      "       'resoFactsStats/bedrooms', 'resoFactsStats/cityRegion',\n",
      "       'resoFactsStats/homeType', 'resoFactsStats/livingArea',\n",
      "       'resoFactsStats/lotSize', 'resoFactsStats/taxAnnualAmount',\n",
      "       'resoFactsStats/taxAssessedValue', 'schools/0/rating', 'schools/0/size',\n",
      "       'schools/1/distance', 'schools/1/size', 'schools/1/studentsPerTeacher',\n",
      "       'schools/2/rating', 'schools/2/size', 'yearBuilt', 'zpid',\n",
      "       'number_of_photos', 'description_lengths'],\n",
      "      dtype='object')\n"
     ]
    }
   ],
   "source": [
    "from sklearn.feature_selection import RFE\n",
    "from sklearn.tree import DecisionTreeRegressor\n",
    "from sklearn.ensemble import RandomForestRegressor\n",
    "\n",
    "# recursive feature elimination\n",
    "if 1:\n",
    "    regressor = DecisionTreeRegressor(min_samples_leaf=int(2.5e-4*train_indices.size))\n",
    "else:\n",
    "    regressor = RandomForestRegressor(min_samples_leaf=int(2.5e-4*train_indices.size))\n",
    "rfe = RFE(estimator=regressor, n_features_to_select=0.5, step=10)\n",
    "rfe.fit(X_train, y_train)\n",
    "print(X.columns[rfe.support_])\n"
   ]
  },
  {
   "cell_type": "code",
   "execution_count": 31,
   "metadata": {},
   "outputs": [
    {
     "name": "stdout",
     "output_type": "stream",
     "text": [
      "Index(['bathrooms', 'homeStatus', 'latitude', 'livingArea', 'longitude',\n",
      "       'resoFactsStats/bathrooms', 'resoFactsStats/bathroomsFull',\n",
      "       'resoFactsStats/bedrooms', 'resoFactsStats/cityRegion',\n",
      "       'resoFactsStats/homeType', 'resoFactsStats/livingArea',\n",
      "       'resoFactsStats/lotSize', 'resoFactsStats/taxAnnualAmount',\n",
      "       'resoFactsStats/taxAssessedValue', 'schools/0/rating', 'schools/0/size',\n",
      "       'schools/1/studentsPerTeacher', 'schools/2/rating', 'schools/2/size',\n",
      "       'zpid', 'number_of_photos', 'description_lengths'],\n",
      "      dtype='object')\n"
     ]
    }
   ],
   "source": [
    "from sklearn.feature_selection import RFECV\n",
    "\n",
    "rfecv = RFECV(estimator=regressor, min_features_to_select=0.5, step=10)\n",
    "rfecv.fit(X_train, y_train)\n",
    "print(X.columns[rfecv.support_])"
   ]
  },
  {
   "cell_type": "code",
   "execution_count": 106,
   "metadata": {},
   "outputs": [
    {
     "name": "stdout",
     "output_type": "stream",
     "text": [
      "Index(['bedrooms', 'homeStatus', 'latitude', 'propertyTaxRate',\n",
      "       'resoFactsStats/bathrooms', 'resoFactsStats/cityRegion',\n",
      "       'resoFactsStats/garageSpaces', 'resoFactsStats/hasAttachedGarage',\n",
      "       'resoFactsStats/hasAttachedProperty', 'resoFactsStats/hasCooling',\n",
      "       'resoFactsStats/hasGarage', 'resoFactsStats/hasHeating',\n",
      "       'resoFactsStats/hasOpenParking', 'resoFactsStats/hasView',\n",
      "       'resoFactsStats/homeType', 'resoFactsStats/parking',\n",
      "       'resoFactsStats/taxAssessedValue', 'schools/0/level',\n",
      "       'schools/0/rating', 'schools/0/size', 'schools/1/studentsPerTeacher',\n",
      "       'schools/2/isAssigned', 'schools/2/level',\n",
      "       'schools/2/studentsPerTeacher', 'zpid', 'url_exists'],\n",
      "      dtype='object')\n"
     ]
    }
   ],
   "source": [
    "from sklearn.feature_selection import SequentialFeatureSelector\n",
    "\n",
    "sfs = SequentialFeatureSelector(regressor, n_features_to_select=0.5, direction=\"forward\", cv=5)\n",
    "sfs.fit(X_train, y_train)\n",
    "print(X.columns[sfs.support_])"
   ]
  },
  {
   "cell_type": "code",
   "execution_count": 32,
   "metadata": {},
   "outputs": [
    {
     "name": "stdout",
     "output_type": "stream",
     "text": [
      "All features RMSE:  2501240.518529755\n"
     ]
    }
   ],
   "source": [
    "regressor.fit(X_train, y_train)\n",
    "y_predictions = regressor.predict(X_test)\n",
    "print(\"All features RMSE: \", np.sqrt(np.mean((y_predictions - y_test)**2)))"
   ]
  },
  {
   "cell_type": "code",
   "execution_count": 33,
   "metadata": {},
   "outputs": [
    {
     "name": "stdout",
     "output_type": "stream",
     "text": [
      "Selected features rfe RMSE:  2513599.9599027713\n"
     ]
    }
   ],
   "source": [
    "regressor.fit(X_train.iloc[:, rfe.support_], y_train)\n",
    "y_predictions_rfe = regressor.predict(X_test.iloc[:, rfe.support_])\n",
    "print(\"Selected features rfe RMSE: \", (np.sqrt(np.mean((y_predictions_rfe - y_test)**2))))"
   ]
  },
  {
   "cell_type": "code",
   "execution_count": 34,
   "metadata": {},
   "outputs": [
    {
     "name": "stdout",
     "output_type": "stream",
     "text": [
      "Selected features rfecv RMSE:  2502485.2092605038\n"
     ]
    }
   ],
   "source": [
    "regressor.fit(X_train.iloc[:, rfecv.support_], y_train)\n",
    "y_predictions_rfecv = regressor.predict(X_test.iloc[:, rfecv.support_])\n",
    "print(\"Selected features rfecv RMSE: \", (np.sqrt(np.mean((y_predictions_rfecv - y_test)**2))))"
   ]
  },
  {
   "cell_type": "code",
   "execution_count": 109,
   "metadata": {},
   "outputs": [
    {
     "name": "stdout",
     "output_type": "stream",
     "text": [
      "Selected features sfs RMSE:  2507722.951050765\n"
     ]
    }
   ],
   "source": [
    "regressor.fit(X_train.iloc[:, sfs.support_], y_train)\n",
    "y_predictions_sfs = regressor.predict(X_test.iloc[:, sfs.support_])\n",
    "print(\"Selected features sfs RMSE: \", (np.sqrt(np.mean((y_predictions_sfs - y_test)**2))))"
   ]
  },
  {
   "cell_type": "code",
   "execution_count": 110,
   "metadata": {},
   "outputs": [
    {
     "name": "stdout",
     "output_type": "stream",
     "text": [
      "Features in both selections:  Index(['homeStatus', 'latitude', 'resoFactsStats/bathrooms',\n",
      "       'resoFactsStats/cityRegion', 'resoFactsStats/homeType',\n",
      "       'resoFactsStats/taxAssessedValue', 'schools/0/rating', 'schools/0/size',\n",
      "       'schools/1/studentsPerTeacher', 'zpid'],\n",
      "      dtype='object')\n"
     ]
    }
   ],
   "source": [
    "print(\"Features in both selections: \", X.columns[(rfe.support_) & (sfs.support_)])"
   ]
  },
  {
   "cell_type": "code",
   "execution_count": 111,
   "metadata": {},
   "outputs": [
    {
     "name": "stdout",
     "output_type": "stream",
     "text": [
      "Features chosen by sfs but not by rfe:  Index(['bedrooms', 'propertyTaxRate', 'resoFactsStats/garageSpaces',\n",
      "       'resoFactsStats/hasAttachedGarage',\n",
      "       'resoFactsStats/hasAttachedProperty', 'resoFactsStats/hasCooling',\n",
      "       'resoFactsStats/hasGarage', 'resoFactsStats/hasHeating',\n",
      "       'resoFactsStats/hasOpenParking', 'resoFactsStats/hasView',\n",
      "       'resoFactsStats/parking', 'schools/0/level', 'schools/2/isAssigned',\n",
      "       'schools/2/level', 'schools/2/studentsPerTeacher', 'url_exists'],\n",
      "      dtype='object')\n"
     ]
    }
   ],
   "source": [
    "print(\"Features chosen by sfs but not by rfe: \", X.columns[~(rfe.support_) & (sfs.support_)])"
   ]
  },
  {
   "cell_type": "code",
   "execution_count": 112,
   "metadata": {},
   "outputs": [
    {
     "name": "stdout",
     "output_type": "stream",
     "text": [
      "Features chosen by rfe but not by sfs:  Index(['address/zipcode', 'bathrooms', 'livingArea', 'longitude',\n",
      "       'resoFactsStats/bathroomsFull', 'resoFactsStats/bedrooms',\n",
      "       'resoFactsStats/livingArea', 'resoFactsStats/lotSize',\n",
      "       'resoFactsStats/taxAnnualAmount', 'schools/0/distance',\n",
      "       'schools/1/distance', 'schools/1/size', 'schools/2/rating',\n",
      "       'schools/2/size', 'number_of_photos', 'description_lengths'],\n",
      "      dtype='object')\n"
     ]
    }
   ],
   "source": [
    "print(\"Features chosen by rfe but not by sfs: \", X.columns[(rfe.support_) & ~(sfs.support_)])"
   ]
  },
  {
   "cell_type": "code",
   "execution_count": 24,
   "metadata": {},
   "outputs": [
    {
     "name": "stdout",
     "output_type": "stream",
     "text": [
      "Linear Regression RMSE:  2976830.0663935035\n"
     ]
    }
   ],
   "source": [
    "from sklearn.linear_model import LinearRegression\n",
    "lr = LinearRegression()\n",
    "lr.fit(X_train, y_train)\n",
    "lr_predictions = lr.predict(X_test)\n",
    "print(\"Linear Regression RMSE: \", np.sqrt(np.mean((lr_predictions - y_test)**2)))"
   ]
  },
  {
   "cell_type": "code",
   "execution_count": 28,
   "metadata": {},
   "outputs": [
    {
     "name": "stdout",
     "output_type": "stream",
     "text": [
      "Linear Regression rfe RMSE:  3126545.0220086235\n"
     ]
    }
   ],
   "source": [
    "lr = LinearRegression()\n",
    "lr.fit(X_train.iloc[:, rfe.support_], y_train)\n",
    "lr_predictions_rfe = lr.predict(X_test.iloc[:, rfe.support_])\n",
    "print(\"Linear Regression rfe RMSE: \", np.sqrt(np.mean((lr_predictions_rfe - y_test)**2)))"
   ]
  },
  {
   "cell_type": "code",
   "execution_count": 139,
   "metadata": {},
   "outputs": [
    {
     "name": "stdout",
     "output_type": "stream",
     "text": [
      "Linear Regression sfs RMSE:  3106835.355218363\n"
     ]
    }
   ],
   "source": [
    "lr = LinearRegression()\n",
    "lr.fit(X_train.iloc[:, sfs.support_], y_train)\n",
    "lr_predictions_sfs = lr.predict(X_test.iloc[:, sfs.support_])\n",
    "print(\"Linear Regression sfs RMSE: \", np.sqrt(np.mean((lr_predictions_sfs - y_test)**2)))"
   ]
  }
 ],
 "metadata": {
  "kernelspec": {
   "display_name": "meshes",
   "language": "python",
   "name": "python3"
  },
  "language_info": {
   "codemirror_mode": {
    "name": "ipython",
    "version": 3
   },
   "file_extension": ".py",
   "mimetype": "text/x-python",
   "name": "python",
   "nbconvert_exporter": "python",
   "pygments_lexer": "ipython3",
   "version": "3.8.16"
  },
  "orig_nbformat": 4,
  "vscode": {
   "interpreter": {
    "hash": "0163732830db25dc078d3027c756dfdbec9bc22e784d48b7fd5f8168fb337cbd"
   }
  }
 },
 "nbformat": 4,
 "nbformat_minor": 2
}
